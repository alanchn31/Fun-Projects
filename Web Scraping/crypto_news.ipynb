{
 "cells": [
  {
   "cell_type": "markdown",
   "metadata": {},
   "source": [
    "Learning from the web scraping primer by DataQuest, this notebook aims to scrap headlines of\n",
    "cryptocurrency news from https://www.coindesk.com/"
   ]
  },
  {
   "cell_type": "code",
   "execution_count": 2,
   "metadata": {},
   "outputs": [
    {
     "data": {
      "text/plain": [
       "<Response [200]>"
      ]
     },
     "execution_count": 2,
     "metadata": {},
     "output_type": "execute_result"
    }
   ],
   "source": [
    "import requests\n",
    "page = requests.get(\"https://www.coindesk.com/\")\n",
    "page"
   ]
  },
  {
   "cell_type": "code",
   "execution_count": 3,
   "metadata": {},
   "outputs": [],
   "source": [
    "from bs4 import BeautifulSoup\n",
    "soup = BeautifulSoup(page.content, 'html.parser')"
   ]
  },
  {
   "cell_type": "code",
   "execution_count": 15,
   "metadata": {},
   "outputs": [],
   "source": [
    "featured_posts = soup.find_all('ul',  { \"id\" : \"featured-posts\" })[1]"
   ]
  },
  {
   "cell_type": "code",
   "execution_count": 18,
   "metadata": {},
   "outputs": [
    {
     "data": {
      "text/plain": [
       "[<a class=\"fade\" href=\"https://www.coindesk.com/8k-in-reach-4-barriers-await-emboldened-bitcoin-bulls/\" rel=\"nofollow\" title=\"$8K In Reach? 4 Barriers Await Emboldened Bitcoin Bulls\"><div class=\"picture\"><img alt=\"\" class=\"attachment-small size-small wp-post-image\" height=\"95\" src=\"https://media.coindesk.com/uploads/2018/06/Man-on-bitcoin-100x95.jpg\" width=\"100\"/></div><h4>$8K In Reach? 4 Barriers Await Emboldened Bitcoin Bulls</h4></a>,\n",
       " <a class=\"fade\" href=\"https://www.coindesk.com/bitcoins-biggest-startups-are-backing-a-new-effort-to-keep-fees-low/\" rel=\"nofollow\" title=\"Bitcoin's Biggest Startups Are Backing a New Effort to Keep Fees Low\"><div class=\"picture\"><img alt=\"bitcoin, fees, calculator\" class=\"attachment-small size-small wp-post-image\" height=\"95\" src=\"https://media.coindesk.com/uploads/2018/07/bitcoin-fees-calculator-100x95.jpg\" width=\"100\"/></div><h4>Bitcoin's Biggest Startups Are Backing a New Effort to Keep Fees Low</h4></a>,\n",
       " <a class=\"fade\" href=\"https://www.coindesk.com/congressmans-call-for-crypto-ban-sparks-social-uproar/\" rel=\"nofollow\" title=\"You Can't Ban Math: Crypto Unites to Call Out Congressman\"><div class=\"picture\"><img alt=\"\" class=\"attachment-small size-small wp-post-image\" height=\"95\" src=\"https://media.coindesk.com/uploads/2018/07/Screen-Shot-2018-07-19-at-11.50.28-PM-100x95.png\" width=\"100\"/></div><h4>You Can't Ban Math: Crypto Unites to Call Out Congressman</h4></a>]"
      ]
     },
     "execution_count": 18,
     "metadata": {},
     "output_type": "execute_result"
    }
   ],
   "source": [
    "featured_posts.find_all('a')"
   ]
  },
  {
   "cell_type": "code",
   "execution_count": 28,
   "metadata": {},
   "outputs": [
    {
     "name": "stdout",
     "output_type": "stream",
     "text": [
      "Headlines today: \n",
      "\n",
      "Headline 1: $8K In Reach? 4 Barriers Await Emboldened Bitcoin Bulls\n",
      "Go to: https://www.coindesk.com/8k-in-reach-4-barriers-await-emboldened-bitcoin-bulls/ to learn more.\n",
      "\n",
      "Headline 2: Bitcoin's Biggest Startups Are Backing a New Effort to Keep Fees Low\n",
      "Go to: https://www.coindesk.com/bitcoins-biggest-startups-are-backing-a-new-effort-to-keep-fees-low/ to learn more.\n",
      "\n",
      "Headline 3: You Can't Ban Math: Crypto Unites to Call Out Congressman\n",
      "Go to: https://www.coindesk.com/congressmans-call-for-crypto-ban-sparks-social-uproar/ to learn more.\n",
      "\n"
     ]
    }
   ],
   "source": [
    "i = 0\n",
    "print(\"Headlines today: \\n\")\n",
    "for post in featured_posts.find_all('a'):\n",
    "    i += 1\n",
    "    print(\"Headline \"+ str(i) + \": \" + post[\"title\"])\n",
    "    print(\"Go to: \" + post[\"href\"] + \" to learn more.\\n\")"
   ]
  }
 ],
 "metadata": {
  "kernelspec": {
   "display_name": "Python 3",
   "language": "python",
   "name": "python3"
  },
  "language_info": {
   "codemirror_mode": {
    "name": "ipython",
    "version": 3
   },
   "file_extension": ".py",
   "mimetype": "text/x-python",
   "name": "python",
   "nbconvert_exporter": "python",
   "pygments_lexer": "ipython3",
   "version": "3.6.5"
  }
 },
 "nbformat": 4,
 "nbformat_minor": 2
}
